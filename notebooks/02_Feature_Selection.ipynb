{
 "cells": [
  {
   "cell_type": "markdown",
   "id": "10edbb53",
   "metadata": {},
   "source": [
    "# 1. Libraries"
   ]
  },
  {
   "cell_type": "code",
   "execution_count": null,
   "id": "2c1e2242",
   "metadata": {},
   "outputs": [],
   "source": [
    "import numpy as np\n",
    "import pandas as pd\n",
    "\n",
    "import xgboost as xgb\n",
    "import shap\n",
    "import pandas as pd\n",
    "import numpy as np\n",
    "\n",
    "from sklearn.model_selection import TimeSeriesSplit\n",
    "from sklearn.preprocessing import StandardScaler, PolynomialFeatures\n",
    "\n",
    "from autoencoder import Autoencoder, AutoencoderTrainer, autoencoder_workflow"
   ]
  },
  {
   "cell_type": "markdown",
   "id": "0cd5e3cb",
   "metadata": {},
   "source": [
    "# 2. Data Loading"
   ]
  },
  {
   "cell_type": "code",
   "execution_count": 18,
   "id": "491971c7",
   "metadata": {},
   "outputs": [],
   "source": [
    "filepath = \"../data/\"\n",
    "\n",
    "train_df = pd.read_parquet(filepath+\"train.parquet\")\n",
    "features = train_df.drop('label', axis = 1)\n",
    "y = train_df['label']\n",
    "# test_df = pd.read_parquet(filepath+\"test.parquet\")"
   ]
  },
  {
   "cell_type": "markdown",
   "id": "92acab95",
   "metadata": {},
   "source": [
    "# 3. Collinearity Feature Compression\n",
    "- Collinearity-based feature compression to remove highly correlated and uninformative features\n",
    "- Inspired by Tony271YnoT's approach\n",
    "- Baseline filtering by correlation with the target (782 features kept)\n",
    "- Compress blocks of highly correlated features (threshold 0.6) by selecting a medoid (144 features kept)\n",
    "- Result: fewer, more informative features for modeling"
   ]
  },
  {
   "cell_type": "code",
   "execution_count": null,
   "id": "c91f1bbf",
   "metadata": {},
   "outputs": [],
   "source": [
    "def corr_compression(features, y, method=\"spearman\", corr_threshold=0.6, target_threshold=1e-4):\n",
    "\n",
    "    initial_filtered = [\n",
    "        col for col in features.columns\n",
    "        if abs(features[col].corr(y, method=method)) >= target_threshold\n",
    "    ]\n",
    "    features = features[initial_filtered].copy()\n",
    "    print(f\"{len(initial_filtered)} features kept after target filtering\")\n",
    "\n",
    "    corr_matrix = features.corr(method=method)\n",
    "\n",
    "    groups = []\n",
    "    visited = set()\n",
    "\n",
    "    for col in corr_matrix.columns:\n",
    "        if col in visited:\n",
    "            continue\n",
    "        group = set(corr_matrix.columns[corr_matrix[col] > corr_threshold])\n",
    "        groups.append(group)\n",
    "        visited |= group\n",
    "\n",
    "    selected_features = []\n",
    "\n",
    "    for group in groups:\n",
    "        if len(group) == 1:\n",
    "            selected_features.extend(group)\n",
    "            continue\n",
    "\n",
    "        sub_corr = corr_matrix.loc[list(group), list(group)].copy()\n",
    "        np.fill_diagonal(sub_corr.values, 0)\n",
    "        mean_corr = sub_corr.mean(axis=1)\n",
    "        medoid = mean_corr.idxmax()\n",
    "        selected_features.append(medoid)\n",
    "\n",
    "    reduced_df = features[selected_features].copy()\n",
    "    print(f\"{len(selected_features)} features kept after correlation compression\")\n",
    "\n",
    "    return reduced_df"
   ]
  },
  {
   "cell_type": "code",
   "execution_count": 8,
   "id": "118c8abb",
   "metadata": {},
   "outputs": [
    {
     "name": "stdout",
     "output_type": "stream",
     "text": [
      "Step 1: 782 features kept after target filtering\n",
      "Step 2: 144 features kept after correlation compression\n"
     ]
    }
   ],
   "source": [
    "filtered_df = corr_compression(features, y, corr_threshold=0.6, target_threshold=1e-4)"
   ]
  },
  {
   "cell_type": "markdown",
   "id": "9e62ece4",
   "metadata": {},
   "source": [
    "# 4. Feature Selection: Function Definition and Initial Run\n",
    "- Define a baseline feature selection function.  \n",
    "- Apply time series cross-validation with 6 splits for robust feature evaluation.  \n",
    "- Use XGBoost to perform cross-validated feature selection in each fold.  \n",
    "- Extract the top 20 features from each fold and identify the most consistently selected features across folds.  \n",
    "- Use SHAP values to evaluate and rank feature importance.  "
   ]
  },
  {
   "cell_type": "code",
   "execution_count": null,
   "id": "17175018",
   "metadata": {},
   "outputs": [],
   "source": [
    "def cv_shap_feature_selection_timeseries(X, y, n_splits=6, top_k_fold=20, min_folds=2, normalize=True):\n",
    "\n",
    "    tscv = TimeSeriesSplit(n_splits=n_splits)\n",
    "    fold_top_features = []\n",
    "\n",
    "    for fold, (train_idx, val_idx) in enumerate(tscv.split(X)):\n",
    "        print(f\"\\nFold {fold+1}/{n_splits}\")\n",
    "\n",
    "        X_train, X_val = X.iloc[train_idx], X.iloc[val_idx]\n",
    "        y_train, y_val = y.iloc[train_idx], y.iloc[val_idx]\n",
    "\n",
    "        dtrain = xgb.DMatrix(X_train, label=y_train)\n",
    "        dval = xgb.DMatrix(X_val, label=y_val)\n",
    "\n",
    "        params = {\n",
    "            \"objective\": \"reg:squarederror\",\n",
    "            \"max_depth\": 4,\n",
    "            \"learning_rate\": 0.05,\n",
    "            \"subsample\": 0.8,\n",
    "            \"colsample_bytree\": 0.8,\n",
    "            \"n_jobs\": -1,\n",
    "            \"eval_metric\": \"mae\"\n",
    "        }\n",
    "\n",
    "        bst = xgb.train(\n",
    "            params,\n",
    "            dtrain,\n",
    "            num_boost_round=500,\n",
    "            evals=[(dval, \"eval\")],\n",
    "            early_stopping_rounds=50,\n",
    "            verbose_eval=False\n",
    "        )\n",
    "\n",
    "        explainer = shap.TreeExplainer(bst)\n",
    "        shap_values = explainer.shap_values(X_train)\n",
    "\n",
    "        mean_shap = np.abs(shap_values).mean(axis=0)\n",
    "        if normalize:\n",
    "            mean_shap = mean_shap / mean_shap.sum()\n",
    "\n",
    "        feature_importance = pd.Series(mean_shap, index=X.columns)\n",
    "        top_features = feature_importance.nlargest(top_k_fold).index.tolist()\n",
    "        fold_top_features.append(top_features)\n",
    "\n",
    "        print(f\"Top-{top_k_fold} features for fold {fold+1}:\", top_features)\n",
    "\n",
    "    all_features = [f for fold_list in fold_top_features for f in fold_list]\n",
    "    feature_counts = pd.Series(all_features).value_counts()\n",
    "\n",
    "    consistent_features = feature_counts[feature_counts >= min_folds].index.tolist()\n",
    "    print(f\"\\nFeatures appearing in ≥{min_folds} folds ({len(consistent_features)} features):\", consistent_features)\n",
    "\n",
    "    return consistent_features, fold_top_features, feature_counts"
   ]
  },
  {
   "cell_type": "code",
   "execution_count": 11,
   "id": "91defa90",
   "metadata": {},
   "outputs": [
    {
     "name": "stdout",
     "output_type": "stream",
     "text": [
      "\n",
      "Fold 1/6\n",
      "Top-20 features for fold 1: ['X294', 'X500', 'X778', 'X777', 'X652', 'X573', 'X204', 'X451', 'X173', 'X447', 'X313', 'X763', 'X377', 'bid_qty', 'ask_qty', 'X8', 'X244', 'X39', 'X18', 'X21']\n",
      "\n",
      "Fold 2/6\n",
      "Top-20 features for fold 2: ['X294', 'X21', 'X652', 'X777', 'X550', 'X362', 'X678', 'X573', 'X604', 'X91', 'X84', 'X551', 'X367', 'X763', 'bid_qty', 'ask_qty', 'X8', 'X244', 'X39', 'X18']\n",
      "\n",
      "Fold 3/6\n",
      "Top-20 features for fold 3: ['X294', 'X21', 'X752', 'X772', 'X332', 'X758', 'X759', 'X45', 'X39', 'X652', 'X608', 'X367', 'X31', 'X731', 'X287', 'X602', 'X507', 'X500', 'X770', 'X610']\n",
      "\n",
      "Fold 4/6\n",
      "Top-20 features for fold 4: ['X21', 'X294', 'X614', 'X699', 'X652', 'X778', 'X332', 'X650', 'X558', 'X550', 'X84', 'X758', 'X125', 'X287', 'bid_qty', 'ask_qty', 'X763', 'X8', 'X244', 'X39']\n",
      "\n",
      "Fold 5/6\n",
      "Top-20 features for fold 5: ['X752', 'X614', 'X294', 'X287', 'X678', 'X84', 'X758', 'X550', 'X551', 'X777', 'X486', 'X763', 'bid_qty', 'ask_qty', 'X8', 'X244', 'X39', 'X18', 'X21', 'X31']\n",
      "\n",
      "Fold 6/6\n",
      "Top-20 features for fold 6: ['X752', 'X759', 'X287', 'X758', 'X31', 'X21', 'X294', 'X614', 'X608', 'X331', 'X778', 'X168', 'X45', 'X678', 'X173', 'X652', 'X415', 'X334', 'X126', 'X332']\n",
      "\\Features appearing in ≥2 folds (29 features): ['X294', 'X21', 'X39', 'X652', 'X763', 'X244', 'X8', 'ask_qty', 'X758', 'bid_qty', 'X287', 'X31', 'X614', 'X777', 'X18', 'X778', 'X550', 'X332', 'X678', 'X752', 'X84', 'X759', 'X45', 'X608', 'X500', 'X367', 'X551', 'X173', 'X573']\n"
     ]
    }
   ],
   "source": [
    "consistent_features, fold_top_features, feature_counts = cv_shap_feature_selection_timeseries(\n",
    "    filtered_df, y, n_splits=6, top_k_fold=20, min_folds=2\n",
    ")"
   ]
  },
  {
   "cell_type": "markdown",
   "id": "0827c7b3",
   "metadata": {},
   "source": [
    "# 5. Interaction Features\n",
    "- Generate interaction and polynomial features up to degree 2 using `PolynomialFeatures`.  \n",
    "- Apply only to the initially selected features from the feature selection step.  \n",
    "- Expand feature set from 30 to 464 features.  "
   ]
  },
  {
   "cell_type": "code",
   "execution_count": null,
   "id": "8266085b",
   "metadata": {},
   "outputs": [
    {
     "name": "stdout",
     "output_type": "stream",
     "text": [
      "Step 1: 0 features kept after target filtering\n",
      "Step 2: 0 features kept after correlation compression\n",
      "Original features: 29\n",
      "Polynomial features (degree 2): 464\n"
     ]
    }
   ],
   "source": [
    "X_base = filtered_df[consistent_features].copy()\n",
    "\n",
    "scaler = StandardScaler()\n",
    "X_scaled = scaler.fit_transform(X_base)\n",
    "\n",
    "poly = PolynomialFeatures(degree=2, interaction_only=False, include_bias=False)\n",
    "X_poly = poly.fit_transform(X_scaled)\n",
    "\n",
    "feature_names = poly.get_feature_names_out(X_base.columns)\n",
    "X_poly_df = pd.DataFrame(X_poly, columns=feature_names)\n",
    "\n",
    "print(\"Original features:\", X_base.shape[1])\n",
    "print(\"Compressed Polynomial features (degree 2):\", X_poly_df.shape[1])"
   ]
  },
  {
   "cell_type": "code",
   "execution_count": null,
   "id": "38e08ccc",
   "metadata": {},
   "outputs": [
    {
     "name": "stdout",
     "output_type": "stream",
     "text": [
      "\n",
      "Fold 1/6\n",
      "Top-20 features for fold 1: ['X294 X652', 'X758 X778', 'X287 X608', 'X500 X173', 'X758 X500', 'X763 X678', 'X652 X678', 'X39 X573', 'X550 X608', 'X332 X573', 'X39 X332', 'X752 X367', 'X652 X31', 'X287 X777', 'X763', 'X652 X332', 'X763^2', 'X652 X84', 'X294 X21', 'X777']\n",
      "\n",
      "Fold 2/6\n",
      "Top-20 features for fold 2: ['X294', 'X287 X608', 'X652', 'X500 X173', 'X39 X573', 'X550', 'X294 X31', 'X550 X678', 'X573', 'X614', 'X332 X367', 'X778 X173', 'X21', 'X39', 'X763', 'X244', 'X8', 'ask_qty', 'X758', 'bid_qty']\n",
      "\n",
      "Fold 3/6\n",
      "Top-20 features for fold 3: ['X294', 'X21', 'X763 X752', 'X752 X500', 'X752 X759', 'X758 X31', 'X45 X367', 'X39 X332', 'X550', 'X678 X608', 'X294 X45', 'X614', 'X84', 'X778', 'X294 X752', 'X39', 'X652', 'X763', 'X244', 'X8']\n",
      "\n",
      "Fold 4/6\n",
      "Top-20 features for fold 4: ['X294', 'X763 X752', 'X614 X500', 'X287 X608', 'X287 X500', 'X39 X678', 'X608 X551', 'X778 X759', 'X294 X778', 'X550', 'X777 X550', 'X678 X551', 'X759 X367', 'X294 X500', 'X21', 'X39', 'X652', 'X763', 'X244', 'X8']\n",
      "\n",
      "Fold 5/6\n",
      "Top-20 features for fold 5: ['X777 X752', 'X294', 'X614 X678', 'X294 X758', 'X758^2', 'X652 X367', 'X287 X573', 'X45 X573', 'X614 X45', 'X550', 'X758 X332', 'X763 X777', 'X287 X608', 'X777', 'X21', 'X39', 'X652', 'X763', 'X244', 'X8']\n",
      "\n",
      "Fold 6/6\n",
      "Top-20 features for fold 6: ['X752', 'X759', 'X287', 'X21', 'X294', 'X758 X678', 'X777 X752', 'X778', 'X294 X31', 'X758 X287', 'X758', 'X652 X752', 'X614', 'X752 X45', 'X758 X500', 'X173 X573', 'X608', 'X758 X608', 'X332', 'X763 X752']\n",
      "\\Features appearing in ≥2 folds (20 features): ['X763', 'X21', 'X294', 'X39', 'X287 X608', 'X8', 'X550', 'X652', 'X244', 'X614', 'X763 X752', 'X758', 'X294 X31', 'X777', 'X777 X752', 'X39 X332', 'X778', 'X39 X573', 'X758 X500', 'X500 X173']\n"
     ]
    }
   ],
   "source": [
    "consistent_features, fold_top_features, feature_counts = cv_shap_feature_selection_timeseries(\n",
    "    X_poly_df, y, n_splits=6, top_k_fold=20, min_folds=1\n",
    ")"
   ]
  },
  {
   "cell_type": "markdown",
   "id": "c7003161",
   "metadata": {},
   "source": [
    "# 6. Autoencoder Feature Engineering\n",
    "- Apply an autoencoder to compress features into a dense representation.  \n",
    "- Input features come from the polynomial feature selection step.  \n",
    "- Typically observe a noticeable difference between training and validation reconstruction errors.  \n",
    "- After normalization, mean reconstruction error remains relatively high:  \n",
    "  - Original shape: `(525,886, 20)`  \n",
    "  - Encoded shape: `(525,886, 8)`  \n",
    "  - Mean reconstruction error: `0.440412`"
   ]
  },
  {
   "cell_type": "code",
   "execution_count": 66,
   "id": "a52f508e",
   "metadata": {},
   "outputs": [
    {
     "name": "stdout",
     "output_type": "stream",
     "text": [
      "Input dimension: 20\n",
      "Encoding dimension: 8\n",
      "Compression ratio: 2.50x\n",
      "Loss Function: MSE\n",
      "Starting training...\n",
      "Epoch [0/200], Train Loss: 0.537038, Val Loss: 2.721084\n",
      "Epoch [1/200], Train Loss: 0.384628, Val Loss: 2.382279\n",
      "Epoch [2/200], Train Loss: 0.340179, Val Loss: 2.224463\n",
      "Epoch [3/200], Train Loss: 0.323805, Val Loss: 2.202197\n",
      "Epoch [4/200], Train Loss: 0.307901, Val Loss: 2.185341\n",
      "Epoch [5/200], Train Loss: 0.296377, Val Loss: 2.134848\n",
      "Epoch [6/200], Train Loss: 0.287918, Val Loss: 2.039731\n",
      "Epoch [7/200], Train Loss: 0.280303, Val Loss: 2.031105\n",
      "Epoch [8/200], Train Loss: 0.275522, Val Loss: 1.987834\n",
      "Epoch [9/200], Train Loss: 0.272936, Val Loss: 1.948570\n",
      "Epoch [10/200], Train Loss: 0.270713, Val Loss: 1.915514\n",
      "Epoch [11/200], Train Loss: 0.268331, Val Loss: 1.896286\n",
      "Epoch [12/200], Train Loss: 0.266719, Val Loss: 1.919432\n",
      "Epoch [13/200], Train Loss: 0.265240, Val Loss: 1.887303\n",
      "Epoch [14/200], Train Loss: 0.263543, Val Loss: 1.916908\n",
      "Epoch [15/200], Train Loss: 0.261965, Val Loss: 1.918928\n",
      "Epoch [16/200], Train Loss: 0.260141, Val Loss: 1.944367\n",
      "Epoch [17/200], Train Loss: 0.258142, Val Loss: 1.934004\n",
      "Epoch [18/200], Train Loss: 0.256191, Val Loss: 1.899316\n",
      "Epoch [19/200], Train Loss: 0.254151, Val Loss: 1.896315\n",
      "Epoch [20/200], Train Loss: 0.252595, Val Loss: 1.862399\n",
      "Epoch [21/200], Train Loss: 0.251688, Val Loss: 1.865433\n",
      "Epoch [22/200], Train Loss: 0.250482, Val Loss: 1.863737\n",
      "Epoch [23/200], Train Loss: 0.249958, Val Loss: 1.846540\n",
      "Epoch [24/200], Train Loss: 0.249374, Val Loss: 1.845644\n",
      "Epoch [25/200], Train Loss: 0.248641, Val Loss: 1.838409\n",
      "Epoch [26/200], Train Loss: 0.248155, Val Loss: 1.835127\n",
      "Epoch [27/200], Train Loss: 0.247809, Val Loss: 1.817512\n",
      "Epoch [28/200], Train Loss: 0.247478, Val Loss: 1.848638\n",
      "Epoch [29/200], Train Loss: 0.246799, Val Loss: 1.834902\n",
      "Epoch [30/200], Train Loss: 0.246738, Val Loss: 1.841573\n",
      "Epoch [31/200], Train Loss: 0.246132, Val Loss: 1.830631\n",
      "Epoch [32/200], Train Loss: 0.246505, Val Loss: 1.816617\n",
      "Epoch [33/200], Train Loss: 0.245692, Val Loss: 1.840069\n",
      "Epoch [34/200], Train Loss: 0.245678, Val Loss: 1.850452\n",
      "Epoch [35/200], Train Loss: 0.245573, Val Loss: 1.834452\n",
      "Epoch [36/200], Train Loss: 0.245311, Val Loss: 1.823561\n",
      "Epoch [37/200], Train Loss: 0.245415, Val Loss: 1.827046\n",
      "Epoch [38/200], Train Loss: 0.245390, Val Loss: 1.821167\n",
      "Epoch [39/200], Train Loss: 0.244911, Val Loss: 1.848459\n",
      "Epoch [40/200], Train Loss: 0.244995, Val Loss: 1.857773\n",
      "Epoch [41/200], Train Loss: 0.244855, Val Loss: 1.839093\n",
      "Epoch [42/200], Train Loss: 0.244692, Val Loss: 1.854466\n",
      "Epoch [43/200], Train Loss: 0.244366, Val Loss: 1.862502\n",
      "Epoch [44/200], Train Loss: 0.244088, Val Loss: 1.868063\n",
      "Epoch [45/200], Train Loss: 0.244158, Val Loss: 1.860726\n",
      "Epoch [46/200], Train Loss: 0.243994, Val Loss: 1.844587\n",
      "Epoch [47/200], Train Loss: 0.244325, Val Loss: 1.872119\n",
      "Epoch [48/200], Train Loss: 0.243586, Val Loss: 1.853255\n",
      "Epoch [49/200], Train Loss: 0.243709, Val Loss: 1.859955\n",
      "Epoch [50/200], Train Loss: 0.243480, Val Loss: 1.864599\n",
      "Epoch [51/200], Train Loss: 0.243415, Val Loss: 1.856359\n",
      "Epoch [52/200], Train Loss: 0.243344, Val Loss: 1.871453\n",
      "Early stopping at epoch 53\n",
      "Training completed. Best validation loss: 1.816617\n"
     ]
    },
    {
     "name": "stderr",
     "output_type": "stream",
     "text": [
      "<string>:38: FutureWarning: You are using `torch.load` with `weights_only=False` (the current default value), which uses the default pickle module implicitly. It is possible to construct malicious pickle data which will execute arbitrary code during unpickling (See https://github.com/pytorch/pytorch/blob/main/SECURITY.md#untrusted-models for more details). In a future release, the default value for `weights_only` will be flipped to `True`. This limits the functions that could be executed during unpickling. Arbitrary objects will no longer be allowed to be loaded via this mode unless they are explicitly allowlisted by the user via `torch.serialization.add_safe_globals`. We recommend you start setting `weights_only=True` for any use case where you don't have full control of the loaded file. Please open an issue on GitHub for any issues related to this experimental feature.\n"
     ]
    },
    {
     "data": {
      "image/png": "[encoded data removed]",
      "text/plain": [
       "<Figure size 1000x600 with 1 Axes>"
      ]
     },
     "metadata": {},
     "output_type": "display_data"
    },
    {
     "name": "stdout",
     "output_type": "stream",
     "text": [
      "Original shape: (525886, 20)\n",
      "Encoded shape: (525886, 8)\n",
      "Mean reconstruction error: 0.440412\n"
     ]
    }
   ],
   "source": [
    "autoencoder, encoded_df, reconstruction_error = autoencoder_workflow(X_poly_df[consistent_features], encoding_dim=8, epochs=200)"
   ]
  },
  {
   "cell_type": "markdown",
   "id": "bf975026",
   "metadata": {},
   "source": [
    "# 7. Final Feature Selections\n",
    "- Perform final feature selection using a combination of autoencoder features and polynomial features, applied on the reduced dataframe.  \n",
    "- End up focusing on a total of `25` features.  \n",
    "- Save the resulting dataset for use in future modeling."
   ]
  },
  {
   "cell_type": "code",
   "execution_count": 69,
   "id": "9282032a",
   "metadata": {},
   "outputs": [],
   "source": [
    "combined_df = pd.concat([X_poly_df[consistent_features], encoded_df], axis=1)"
   ]
  },
  {
   "cell_type": "code",
   "execution_count": 72,
   "id": "fbdaac10",
   "metadata": {},
   "outputs": [
    {
     "name": "stdout",
     "output_type": "stream",
     "text": [
      "\n",
      "Fold 1/6\n",
      "Top-20 features for fold 1: ['X39', 'X778', 'X287 X608', 'X758 X500', 'X652', 'X777', 'X39 X332', 'X763', 'X39 X573', 'X294', 'X550', 'X614', 'X777 X752', 'X21', 'X8', 'X244', 'X763 X752', 'X758', 'X294 X31', 'X500 X173']\n",
      "\n",
      "Fold 2/6\n",
      "Top-20 features for fold 2: ['X294', 'X652', 'X287 X608', 'X758 X500', 'X777', 'X550', 'X39 X332', 'X758', 'X294 X31', 'X614', 'X39 X573', 'X763', 'encoded_feature_6', 'X39', 'X21', 'X8', 'X244', 'X763 X752', 'X777 X752', 'X778']\n",
      "\n",
      "Fold 3/6\n",
      "Top-20 features for fold 3: ['X294', 'X287 X608', 'X763 X752', 'X652', 'X758 X500', 'X39 X332', 'X777', 'X550', 'X294 X31', 'X614', 'X777 X752', 'X763', 'X758', 'X39', 'X21', 'X8', 'X244', 'X778', 'X39 X573', 'X500 X173']\n",
      "\n",
      "Fold 4/6\n",
      "Top-20 features for fold 4: ['X294', 'X758 X500', 'encoded_feature_6', 'X39', 'X763 X752', 'X287 X608', 'X500 X173', 'encoded_feature_4', 'X21', 'X777 X752', 'X652', 'X614', 'X550', 'X763', 'X39 X332', 'X777', 'X294 X31', 'X758', 'X778', 'X8']\n",
      "\n",
      "Fold 5/6\n",
      "Top-20 features for fold 5: ['X777 X752', 'X294', 'X287 X608', 'X614', 'X758 X500', 'X39 X332', 'X550', 'X500 X173', 'X777', 'X763', 'X21', 'X39', 'X8', 'X652', 'X244', 'X763 X752', 'X758', 'X294 X31', 'X778', 'X39 X573']\n",
      "\n",
      "Fold 6/6\n",
      "Top-20 features for fold 6: ['X294', 'X758', 'encoded_feature_6', 'X777 X752', 'X758 X500', 'X21', 'X39 X332', 'X763 X752', 'X287 X608', 'X294 X31', 'X778', 'X777', 'X614', 'encoded_feature_0', 'X500 X173', 'encoded_feature_1', 'X550', 'X39', 'X652', 'encoded_feature_2']\n",
      "\\Features appearing in ≥1 folds (25 features): ['X39', 'X294', 'X294 X31', 'X758', 'X763 X752', 'X21', 'X778', 'X614', 'X550', 'X777 X752', 'X39 X332', 'X777', 'X652', 'X758 X500', 'X287 X608', 'X763', 'X8', 'X500 X173', 'X39 X573', 'X244', 'encoded_feature_6', 'encoded_feature_4', 'encoded_feature_0', 'encoded_feature_1', 'encoded_feature_2']\n"
     ]
    }
   ],
   "source": [
    "consistent_features, fold_top_features, feature_counts = cv_shap_feature_selection_timeseries(\n",
    "    combined_df, y, n_splits=6, top_k_fold=20, min_folds=1\n",
    ")"
   ]
  },
  {
   "cell_type": "code",
   "execution_count": 75,
   "id": "3a10af7d",
   "metadata": {},
   "outputs": [],
   "source": [
    "combined_df[consistent_features].to_parquet(\"../data/consistent_features.parquet\", index=False)"
   ]
  },
  {
   "cell_type": "markdown",
   "id": "32896495",
   "metadata": {},
   "source": [
    "# 9. Summary + Next Steps\n",
    "- Data was noisy; efforts focused on reducing it to the most informative parts.  \n",
    "- Used Autoencoder (AE) to capture nonlinear information.  \n",
    "- Used polynomial interaction features to enrich the dataset.  \n",
    "- Will use `25` features for future modeling.  \n",
    "- Future testing may result in data leakage on the training side because code refactoring was likely not performed; focus was primarily on Kaggle test performance.  \n",
    "- Lack of future signaling might mean that feature selection is overly aggressive."
   ]
  }
 ],
 "metadata": {
  "kernelspec": {
   "display_name": "drw",
   "language": "python",
   "name": "python3"
  },
  "language_info": {
   "codemirror_mode": {
    "name": "ipython",
    "version": 3
   },
   "file_extension": ".py",
   "mimetype": "text/x-python",
   "name": "python",
   "nbconvert_exporter": "python",
   "pygments_lexer": "ipython3",
   "version": "3.11.13"
  }
 },
 "nbformat": 4,
 "nbformat_minor": 5
}
