{
 "cells": [
  {
   "cell_type": "markdown",
   "id": "10edbb53",
   "metadata": {},
   "source": [
    "# 1. Libraries"
   ]
  },
  {
   "cell_type": "code",
   "execution_count": 26,
   "id": "2c1e2242",
   "metadata": {},
   "outputs": [
    {
     "name": "stderr",
     "output_type": "stream",
     "text": [
      "/opt/anaconda3/envs/drw/lib/python3.11/site-packages/tqdm/auto.py:21: TqdmWarning: IProgress not found. Please update jupyter and ipywidgets. See https://ipywidgets.readthedocs.io/en/stable/user_install.html\n",
      "  from .autonotebook import tqdm as notebook_tqdm\n"
     ]
    }
   ],
   "source": [
    "# Standard libraries\n",
    "import os\n",
    "import sys\n",
    "import numpy as np\n",
    "import pandas as pd\n",
    "import matplotlib.pyplot as plt\n",
    "import seaborn as sns\n",
    "import scipy.stats as stats\n",
    "\n",
    "import xgboost as xgb\n",
    "import shap\n",
    "import pandas as pd\n",
    "import numpy as np\n",
    "from sklearn.model_selection import KFold\n",
    "\n",
    "# Scikit-learn\n",
    "from sklearn.preprocessing import StandardScaler\n",
    "\n",
    "# Personal utilities\n",
    "#sys.path.append('../')  # if personal_utils is in parent folder\n",
    "#from personal_utils import quick_notify\n",
    "#sys.path.remove('../')\n",
    "\n",
    "# PyTorch for autoencoder\n",
    "import torch\n",
    "\n",
    "# Import Autoencoder from src\n",
    "sys.path.append('../src')  # Correct path to src from notebooks/\n",
    "from autoencoder import *\n",
    "sys.path.remove('../src')"
   ]
  },
  {
   "cell_type": "markdown",
   "id": "0cd5e3cb",
   "metadata": {},
   "source": [
    "# 2. Data Loading"
   ]
  },
  {
   "cell_type": "code",
   "execution_count": 4,
   "id": "491971c7",
   "metadata": {},
   "outputs": [],
   "source": [
    "filepath = \"../data/\"\n",
    "\n",
    "train_df = pd.read_parquet(filepath+\"train.parquet\")\n",
    "features = train_df.drop('label', axis = 1)\n",
    "y = train_df['label']\n",
    "# test_df = pd.read_parquet(filepath+\"test.parquet\")"
   ]
  },
  {
   "cell_type": "markdown",
   "id": "92acab95",
   "metadata": {},
   "source": [
    "# 3. Collinearity Block Compression\n",
    "- Idea was from Tony271YnoT's solution, by no means novel on my end\n",
    "- Used to remove highly correlated and possibly uninformative features"
   ]
  },
  {
   "cell_type": "code",
   "execution_count": 17,
   "id": "7b77d393",
   "metadata": {},
   "outputs": [],
   "source": [
    "corr_matrix = features.corr(method=\"spearman\")"
   ]
  },
  {
   "cell_type": "code",
   "execution_count": 19,
   "id": "c91f1bbf",
   "metadata": {},
   "outputs": [],
   "source": [
    "threshold = 0.6 # Copied from Tony271YnoT's Approach\n",
    "groups = []\n",
    "visited = set()\n",
    "\n",
    "for col in corr_matrix.columns:\n",
    "    if col in visited:\n",
    "        continue\n",
    "\n",
    "    group = set(corr_matrix.columns[corr_matrix[col] > threshold])\n",
    "    groups.append(group)\n",
    "    visited |= group\n",
    "\n",
    "selected_features = []\n",
    "\n",
    "for group in groups:\n",
    "    if len(group) == 1:\n",
    "        selected_features.extend(group)\n",
    "        continue\n",
    "    \n",
    "    sub_corr = corr_matrix.loc[list(group), list(group)]\n",
    "    mean_corr = sub_corr.mean(axis=1)\n",
    "    medoid = mean_corr.idxmax()\n",
    "\n",
    "    selected_features.append(medoid)\n",
    "\n",
    "reduced_df = train_df[selected_features]"
   ]
  },
  {
   "cell_type": "code",
   "execution_count": 23,
   "id": "7746ab5b",
   "metadata": {},
   "outputs": [
    {
     "name": "stdout",
     "output_type": "stream",
     "text": [
      "Kept 142 / 144 features with |corr| >= 0.0001\n"
     ]
    }
   ],
   "source": [
    "threshold = 1e-4\n",
    "\n",
    "filtered_features = []\n",
    "\n",
    "for col in reduced_df.columns:\n",
    "    corr = reduced_df[col].corr(y, method='spearman')\n",
    "    if abs(corr) >= threshold:\n",
    "        filtered_features.append(col)\n",
    "\n",
    "filtered_df = reduced_df[filtered_features].copy()\n",
    "print(f\"Kept {len(filtered_features)} / {reduced_df.shape[1]} features with |corr| >= {threshold}\")"
   ]
  },
  {
   "cell_type": "markdown",
   "id": "9e62ece4",
   "metadata": {},
   "source": [
    "# 4. Feature Selection Function Definition + Initial Run"
   ]
  },
  {
   "cell_type": "code",
   "execution_count": null,
   "id": "17175018",
   "metadata": {},
   "outputs": [
    {
     "name": "stdout",
     "output_type": "stream",
     "text": [
      "\n",
      "Fold 1/6\n",
      "Top-20 features for fold 1: ['X758', 'X752', 'X415', 'X332', 'X451', 'X294', 'X610', 'X772', 'X759', 'X86', 'X287', 'X21', 'X608', 'X778', 'X331', 'X39', 'X777', 'X168', 'X751', 'X614']\n",
      "\n",
      "Fold 2/6\n",
      "Top-20 features for fold 2: ['X758', 'X752', 'X415', 'X332', 'X451', 'X86', 'X610', 'X759', 'X294', 'X21', 'X772', 'X608', 'X331', 'X287', 'X777', 'X39', 'X778', 'X652', 'X614', 'X168']\n",
      "\n",
      "Fold 3/6\n",
      "Top-20 features for fold 3: ['X758', 'X752', 'X415', 'X332', 'X610', 'X294', 'X451', 'X86', 'X772', 'X759', 'X21', 'X608', 'X331', 'X287', 'X778', 'X777', 'X39', 'X168', 'X614', 'X751']\n",
      "\n",
      "Fold 4/6\n",
      "Top-20 features for fold 4: ['X758', 'X752', 'X415', 'X332', 'X451', 'X610', 'X772', 'X759', 'X86', 'X294', 'X608', 'X21', 'X331', 'X778', 'X287', 'X39', 'X777', 'X168', 'X614', 'X751']\n",
      "\n",
      "Fold 5/6\n",
      "Top-20 features for fold 5: ['X758', 'X752', 'X415', 'X332', 'X294', 'X451', 'X86', 'X759', 'X610', 'X772', 'X608', 'X21', 'X331', 'X778', 'X39', 'X777', 'X287', 'X168', 'X507', 'X614']\n",
      "\n",
      "Fold 6/6\n",
      "Top-20 features for fold 6: ['X758', 'X752', 'X415', 'X332', 'X451', 'X772', 'X610', 'X86', 'X294', 'X759', 'X21', 'X608', 'X331', 'X287', 'X778', 'X39', 'X168', 'X614', 'X777', 'X751']\n",
      "\n",
      "Union of top-20 features across folds (22 features): ['X332', 'X287', 'X610', 'X39', 'X752', 'X86', 'X778', 'X614', 'X168', 'X758', 'X772', 'X759', 'X652', 'X777', 'X415', 'X294', 'X21', 'X608', 'X751', 'X331', 'X451', 'X507']\n"
     ]
    },
    {
     "data": {
      "text/plain": [
       "(['X332',\n",
       "  'X287',\n",
       "  'X610',\n",
       "  'X39',\n",
       "  'X752',\n",
       "  'X86',\n",
       "  'X778',\n",
       "  'X614',\n",
       "  'X168',\n",
       "  'X758',\n",
       "  'X772',\n",
       "  'X759',\n",
       "  'X652',\n",
       "  'X777',\n",
       "  'X415',\n",
       "  'X294',\n",
       "  'X21',\n",
       "  'X608',\n",
       "  'X751',\n",
       "  'X331',\n",
       "  'X451',\n",
       "  'X507'],\n",
       " [['X758',\n",
       "   'X752',\n",
       "   'X415',\n",
       "   'X332',\n",
       "   'X451',\n",
       "   'X294',\n",
       "   'X610',\n",
       "   'X772',\n",
       "   'X759',\n",
       "   'X86',\n",
       "   'X287',\n",
       "   'X21',\n",
       "   'X608',\n",
       "   'X778',\n",
       "   'X331',\n",
       "   'X39',\n",
       "   'X777',\n",
       "   'X168',\n",
       "   'X751',\n",
       "   'X614'],\n",
       "  ['X758',\n",
       "   'X752',\n",
       "   'X415',\n",
       "   'X332',\n",
       "   'X451',\n",
       "   'X86',\n",
       "   'X610',\n",
       "   'X759',\n",
       "   'X294',\n",
       "   'X21',\n",
       "   'X772',\n",
       "   'X608',\n",
       "   'X331',\n",
       "   'X287',\n",
       "   'X777',\n",
       "   'X39',\n",
       "   'X778',\n",
       "   'X652',\n",
       "   'X614',\n",
       "   'X168'],\n",
       "  ['X758',\n",
       "   'X752',\n",
       "   'X415',\n",
       "   'X332',\n",
       "   'X610',\n",
       "   'X294',\n",
       "   'X451',\n",
       "   'X86',\n",
       "   'X772',\n",
       "   'X759',\n",
       "   'X21',\n",
       "   'X608',\n",
       "   'X331',\n",
       "   'X287',\n",
       "   'X778',\n",
       "   'X777',\n",
       "   'X39',\n",
       "   'X168',\n",
       "   'X614',\n",
       "   'X751'],\n",
       "  ['X758',\n",
       "   'X752',\n",
       "   'X415',\n",
       "   'X332',\n",
       "   'X451',\n",
       "   'X610',\n",
       "   'X772',\n",
       "   'X759',\n",
       "   'X86',\n",
       "   'X294',\n",
       "   'X608',\n",
       "   'X21',\n",
       "   'X331',\n",
       "   'X778',\n",
       "   'X287',\n",
       "   'X39',\n",
       "   'X777',\n",
       "   'X168',\n",
       "   'X614',\n",
       "   'X751'],\n",
       "  ['X758',\n",
       "   'X752',\n",
       "   'X415',\n",
       "   'X332',\n",
       "   'X294',\n",
       "   'X451',\n",
       "   'X86',\n",
       "   'X759',\n",
       "   'X610',\n",
       "   'X772',\n",
       "   'X608',\n",
       "   'X21',\n",
       "   'X331',\n",
       "   'X778',\n",
       "   'X39',\n",
       "   'X777',\n",
       "   'X287',\n",
       "   'X168',\n",
       "   'X507',\n",
       "   'X614'],\n",
       "  ['X758',\n",
       "   'X752',\n",
       "   'X415',\n",
       "   'X332',\n",
       "   'X451',\n",
       "   'X772',\n",
       "   'X610',\n",
       "   'X86',\n",
       "   'X294',\n",
       "   'X759',\n",
       "   'X21',\n",
       "   'X608',\n",
       "   'X331',\n",
       "   'X287',\n",
       "   'X778',\n",
       "   'X39',\n",
       "   'X168',\n",
       "   'X614',\n",
       "   'X777',\n",
       "   'X751']])"
      ]
     },
     "execution_count": 32,
     "metadata": {},
     "output_type": "execute_result"
    }
   ],
   "source": [
    "def cv_shap_feature_selection(X, y, n_splits=6, top_k=20):\n",
    "    kf = KFold(n_splits=n_splits, shuffle=True, random_state=42)\n",
    "    \n",
    "    fold_top_features = []\n",
    "    \n",
    "    for fold, (train_idx, val_idx) in enumerate(kf.split(X)):\n",
    "        print(f\"\\nFold {fold+1}/{n_splits}\")\n",
    "        \n",
    "        X_train, X_val = X.iloc[train_idx], X.iloc[val_idx]\n",
    "        y_train, y_val = y.iloc[train_idx], y.iloc[val_idx]\n",
    "        \n",
    "        dtrain = xgb.DMatrix(X_train, label=y_train)\n",
    "        dval = xgb.DMatrix(X_val, label=y_val)\n",
    "        \n",
    "        params = {\n",
    "            \"objective\": \"reg:squarederror\",\n",
    "            \"max_depth\": 6,\n",
    "            \"learning_rate\": 0.05,\n",
    "            \"n_jobs\": -1,\n",
    "            \"eval_metric\": \"mae\"\n",
    "        }\n",
    "        \n",
    "        evals = [(dval, \"eval\")]\n",
    "        \n",
    "        bst = xgb.train(\n",
    "            params,\n",
    "            dtrain,\n",
    "            num_boost_round=500,\n",
    "            evals=evals,\n",
    "            early_stopping_rounds=50,\n",
    "            verbose_eval=False\n",
    "        )\n",
    "        \n",
    "        explainer = shap.Explainer(bst)\n",
    "        shap_values = explainer(X_train)\n",
    "        \n",
    "        # Mean absolute SHAP per feature\n",
    "        mean_shap = np.abs(shap_values.values).mean(axis=0)\n",
    "        feature_importance = pd.Series(mean_shap, index=X.columns)\n",
    "        top_features = feature_importance.nlargest(top_k).index.tolist()\n",
    "        fold_top_features.append(top_features)\n",
    "        \n",
    "        print(f\"Top-{top_k} features for fold {fold+1}:\", top_features)\n",
    "    \n",
    "    # Features that appear in at least one fold's top-k\n",
    "    union_features = list(set(f for fold_list in fold_top_features for f in fold_list))\n",
    "    print(f\"\\nUnion of top-{top_k} features across folds ({len(union_features)} features):\", union_features)\n",
    "    \n",
    "    return union_features, fold_top_features\n",
    "\n",
    "union_features, fold_top_features = cv_shap_feature_selection(filtered_df, y)"
   ]
  },
  {
   "cell_type": "markdown",
   "id": "90c5231d",
   "metadata": {},
   "source": [
    "# 6. Interaction Engineering"
   ]
  },
  {
   "cell_type": "code",
   "execution_count": 1,
   "id": "5c5dcbae",
   "metadata": {},
   "outputs": [],
   "source": [
    "union_features = []"
   ]
  },
  {
   "cell_type": "markdown",
   "id": "5c127712",
   "metadata": {},
   "source": [
    "# 7. Regime Features"
   ]
  },
  {
   "cell_type": "markdown",
   "id": "bf975026",
   "metadata": {},
   "source": [
    "# 8. Model Optimization"
   ]
  },
  {
   "cell_type": "markdown",
   "id": "32896495",
   "metadata": {},
   "source": [
    "# 9. Summary + Next Steps"
   ]
  }
 ],
 "metadata": {
  "kernelspec": {
   "display_name": "drw",
   "language": "python",
   "name": "python3"
  },
  "language_info": {
   "codemirror_mode": {
    "name": "ipython",
    "version": 3
   },
   "file_extension": ".py",
   "mimetype": "text/x-python",
   "name": "python",
   "nbconvert_exporter": "python",
   "pygments_lexer": "ipython3",
   "version": "3.11.13"
  }
 },
 "nbformat": 4,
 "nbformat_minor": 5
}
