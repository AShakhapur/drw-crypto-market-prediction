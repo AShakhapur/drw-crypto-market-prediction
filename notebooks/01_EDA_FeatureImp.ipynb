{
 "cells": [
  {
   "cell_type": "markdown",
   "id": "06fa88a0",
   "metadata": {},
   "source": [
    "# 1. Libraries"
   ]
  },
  {
   "cell_type": "code",
   "execution_count": null,
   "id": "665672a6",
   "metadata": {},
   "outputs": [],
   "source": [
    "import numpy as np \n",
    "import pandas as pd\n",
    "import matplotlib.pyplot as plt\n",
    "import seaborn as sns\n",
    "import scipy.stats as stats\n",
    "from scipy.stats import shapiro, normaltest, anderson"
   ]
  },
  {
   "cell_type": "markdown",
   "id": "47b1958e",
   "metadata": {},
   "source": [
    "# 2. Data Loading"
   ]
  },
  {
   "cell_type": "code",
   "execution_count": 3,
   "id": "5c0ef756",
   "metadata": {},
   "outputs": [],
   "source": [
    "filepath = \"../data/\"\n",
    "\n",
    "train_df = pd.read_parquet(filepath+\"train.parquet\")\n",
    "# test_df = pd.read_parquet(filepath+\"test.parquet\")"
   ]
  },
  {
   "cell_type": "markdown",
   "id": "5e5ef461",
   "metadata": {},
   "source": [
    "# 3. Pre-Processing"
   ]
  },
  {
   "cell_type": "code",
   "execution_count": 10,
   "id": "1507c441",
   "metadata": {},
   "outputs": [
    {
     "name": "stdout",
     "output_type": "stream",
     "text": [
      "Total Features with missing values: 0\n",
      "Total Features with zero variance: 0\n"
     ]
    }
   ],
   "source": [
    "missing_values = train_df.isnull().sum()\n",
    "zero_cols = train_df.columns[(train_df == 0).all()].tolist()\n",
    "inf_cols = train_df.columns[np.isinf(train_df).all()].tolist()\n",
    "zero_var_cols = train_df.columns[train_df.nunique() <= 1].tolist()\n",
    "\n",
    "print(f\"Total Features with missing values: {(missing_values > 0).sum()}\")\n",
    "print(f\"Total Features with zero variance: {len(zero_cols)+len(inf_cols)+len(zero_var_cols)}\")"
   ]
  },
  {
   "cell_type": "code",
   "execution_count": null,
   "id": "51609e3e",
   "metadata": {},
   "outputs": [
    {
     "name": "stdout",
     "output_type": "stream",
     "text": [
      "Descriptive Statistics:\n",
      "             bid_qty        ask_qty        buy_qty       sell_qty  \\\n",
      "count  525886.000000  525886.000000  525886.000000  525886.000000   \n",
      "mean        9.967948      10.174161     131.712690     132.660088   \n",
      "std        15.645712      15.889598     307.184897     309.728730   \n",
      "min         0.001000       0.001000       0.000000       0.000000   \n",
      "25%         2.634000       2.678000      26.407000      27.020250   \n",
      "50%         6.415000       6.538000      57.015000      58.044500   \n",
      "75%        13.085000      13.330000     127.626000     129.100500   \n",
      "max      1114.932000    1352.965000   17609.567000   17685.503000   \n",
      "\n",
      "              volume             X1             X2             X3  \\\n",
      "count  525886.000000  525886.000000  525886.000000  525886.000000   \n",
      "mean      264.372778      -0.033823      -0.000269      -0.000307   \n",
      "std       588.457585       0.912125       0.937410       0.933608   \n",
      "min         0.000000      -4.746617      -8.953153      -7.410052   \n",
      "25%        60.687000      -0.651589      -0.479696      -0.534022   \n",
      "50%       120.790500      -0.050707      -0.002515      -0.003520   \n",
      "75%       256.730750       0.567883       0.473859       0.522680   \n",
      "max     28685.346000       5.013179       9.395434       7.849541   \n",
      "\n",
      "                  X4             X5  ...           X772           X773  \\\n",
      "count  525886.000000  525886.000000  ...  525886.000000  525886.000000   \n",
      "mean       -0.000318      -0.000339  ...       0.169216      -0.000665   \n",
      "std         0.930464       0.927752  ...       1.091819       0.719549   \n",
      "min        -6.615129      -5.699821  ...      -0.363418      -0.335636   \n",
      "25%        -0.566194      -0.589776  ...       0.046842      -0.027904   \n",
      "50%        -0.004139      -0.004894  ...       0.177288      -0.010883   \n",
      "75%         0.551433       0.574631  ...       0.227693      -0.000665   \n",
      "max         6.941699       6.358501  ...     275.342873     162.311004   \n",
      "\n",
      "                X774           X775           X776           X777  \\\n",
      "count  525886.000000  525886.000000  525886.000000  525886.000000   \n",
      "mean       -0.003549      -0.003592      -0.003638      -0.003692   \n",
      "std         1.001749       1.001578       1.001470       1.001483   \n",
      "min        -0.703567      -0.717573      -0.731755      -0.751271   \n",
      "25%        -0.703344      -0.717306      -0.731416      -0.749811   \n",
      "50%        -0.702681      -0.716097      -0.725053      -0.692477   \n",
      "75%         1.366824       1.392614       1.377218       1.321203   \n",
      "max         1.522945       1.553585       1.584682       1.627729   \n",
      "\n",
      "                X778           X779           X780          label  \n",
      "count  525886.000000  525886.000000  525886.000000  525886.000000  \n",
      "mean       -0.003864      -0.004136      -0.004453       0.036126  \n",
      "std         1.002343       1.003870       1.005657       1.009915  \n",
      "min        -0.807807      -0.889107      -1.071562     -24.416615  \n",
      "25%        -0.760165      -0.794947      -0.892474      -0.381586  \n",
      "50%        -0.605916      -0.620694      -0.431237       0.016261  \n",
      "75%         1.010719       0.918046       0.830857       0.434137  \n",
      "max         1.765409       1.944191       2.093401      20.740270  \n",
      "\n",
      "[8 rows x 786 columns]\n",
      "\n",
      "Known features: 6\n",
      "Anonymized features: 780\n",
      "\n",
      "Anonymized features statistical summary:\n",
      "        count      mean       std        min       25%       50%       75%  \\\n",
      "X1   525886.0 -0.033823  0.912125  -4.746617 -0.651589 -0.050707  0.567883   \n",
      "X2   525886.0 -0.000269  0.937410  -8.953153 -0.479696 -0.002515  0.473859   \n",
      "X3   525886.0 -0.000307  0.933608  -7.410052 -0.534022 -0.003520  0.522680   \n",
      "X4   525886.0 -0.000318  0.930464  -6.615129 -0.566194 -0.004139  0.551433   \n",
      "X5   525886.0 -0.000339  0.927752  -5.699821 -0.589776 -0.004894  0.574631   \n",
      "X6   525886.0 -0.000431  0.923046  -4.894858 -0.613982 -0.009325  0.600636   \n",
      "X7   525886.0 -0.000534  0.919970  -4.775148 -0.619477 -0.011786  0.604772   \n",
      "X8   525886.0 -0.000703  0.918019  -4.818232 -0.621380 -0.013797  0.603566   \n",
      "X9   525886.0 -0.037028  0.888543  -4.645874 -0.633522 -0.035944  0.553932   \n",
      "X10  525886.0 -0.000165  0.891078 -10.652836 -0.434256 -0.001659  0.428241   \n",
      "\n",
      "           max  \n",
      "X1    5.013179  \n",
      "X2    9.395434  \n",
      "X3    7.849541  \n",
      "X4    6.941699  \n",
      "X5    6.358501  \n",
      "X6    5.722127  \n",
      "X7    5.381167  \n",
      "X8    5.155555  \n",
      "X9    4.580035  \n",
      "X10  10.454863  \n",
      "\n",
      "Data types of anonymized features:\n",
      "float64    780\n",
      "Name: count, dtype: int64\n"
     ]
    }
   ],
   "source": [
    "known_features = ['timestamp', 'bid_qty', 'ask_qty', 'buy_qty', 'sell_qty', 'volume']\n",
    "anonymized_features = [col for col in train_df.columns if col.startswith('X')]\n",
    "target = 'label'\n",
    "\n",
    "print(f\"\\nKnown features: {len(known_features)}\")\n",
    "print(f\"Anonymized features: {len(anonymized_features)}\")\n",
    "\n",
    "X_features = train_df[anonymized_features]\n",
    "print(f\"\\nAnonymized features statistical summary:\")\n",
    "print(X_features.describe().T.head(10))\n",
    "\n",
    "print(f\"\\nData types of anonymized features:\")\n",
    "print(X_features.dtypes.value_counts())"
   ]
  },
  {
   "cell_type": "markdown",
   "id": "bba72017",
   "metadata": {},
   "source": [
    "# 4. Distribution Analysis"
   ]
  },
  {
   "cell_type": "code",
   "execution_count": null,
   "id": "1281c922",
   "metadata": {},
   "outputs": [],
   "source": []
  },
  {
   "cell_type": "markdown",
   "id": "16eb38c7",
   "metadata": {},
   "source": [
    "# 5. Outlier Analysis"
   ]
  },
  {
   "cell_type": "code",
   "execution_count": null,
   "id": "15c0084f",
   "metadata": {},
   "outputs": [],
   "source": []
  },
  {
   "cell_type": "markdown",
   "id": "cf46c05f",
   "metadata": {},
   "source": [
    "# 6. Cluster Analysis"
   ]
  },
  {
   "cell_type": "code",
   "execution_count": null,
   "id": "497ef20a",
   "metadata": {},
   "outputs": [],
   "source": []
  },
  {
   "cell_type": "markdown",
   "id": "e8f86819",
   "metadata": {},
   "source": [
    "# 7. Summary + Next Steps"
   ]
  },
  {
   "cell_type": "code",
   "execution_count": null,
   "id": "cba2f075",
   "metadata": {},
   "outputs": [],
   "source": []
  }
 ],
 "metadata": {
  "kernelspec": {
   "display_name": "base",
   "language": "python",
   "name": "python3"
  },
  "language_info": {
   "codemirror_mode": {
    "name": "ipython",
    "version": 3
   },
   "file_extension": ".py",
   "mimetype": "text/x-python",
   "name": "python",
   "nbconvert_exporter": "python",
   "pygments_lexer": "ipython3",
   "version": "3.12.2"
  }
 },
 "nbformat": 4,
 "nbformat_minor": 5
}
